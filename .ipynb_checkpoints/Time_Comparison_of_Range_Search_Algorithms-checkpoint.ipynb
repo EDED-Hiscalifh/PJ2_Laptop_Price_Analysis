{
 "cells": [
  {
   "cell_type": "markdown",
   "id": "78c0557b",
   "metadata": {},
   "source": [
    "# <center> Time Comparison of Range Search Algorithms\n",
    "\n",
    "# 1. Intoduction\n",
    "    \n",
    "## 1.1 What is Range Search? \n",
    "    \n",
    "In computer science, the range searching problem comsists of processing a set S of object, in order to determine which objects from S intersect with a query object, called the ragne. For example, if S is a set of points corresponding to the coordinates of several cities, find the subset of cities within a give range of latitude and longitudes. \n",
    "    \n",
    "The range searching problem and the data structure that solve it are a fundamental topic of computational geometry. Applications of the problem arise in areas such as GIS(geographical information systems), CAD(computer-aided design) and databases.\n",
    "    \n",
    "## 1.2 Usecase of range search \n",
    "    \n",
    "We can see various usecase of range search from various fields. In [Naver Shopping](https://search.shopping.naver.com/search/all?query=%EB%82%A8%EC%84%B1%EB%B3%B5&cat_id=&frm=NVSHATC) as an example, we can find products in proper budgets.\n",
    "    \n",
    "<img src=\"Img/Naver_shopping.png\" width=\"1000\">\n",
    "    \n",
    "## 1.3 About Dataset \n",
    "    \n",
    "Dataset source url : [Kaggle Competition](https://www.kaggle.com/datasets/muhammetvarl/laptop-price)\n",
    "    \n",
    "1. Company- String -Laptop Manufacturer\n",
    "2. Product -String -Brand and Model\n",
    "3. TypeName -String -Type (Notebook, Ultrabook, Gaming, etc.)\n",
    "4. Inches -Numeric- Screen Size\n",
    "5. ScreenResolution -String- Screen Resolution\n",
    "6. Cpu- String -Central Processing Unit (CPU)\n",
    "7. Ram -String- Laptop RAM\n",
    "8. Memory -String- Hard Disk / SSD Memory\n",
    "9. GPU -String- Graphics Processing Units (GPU)\n",
    "10. OpSys -String- Operating System\n",
    "11. Weight -String- Laptop Weight\n",
    "12. Price_euros -Numeric- Price (Euro)\n",
    "    \n",
    "## 1.4 Goal of this Project\n",
    "    \n",
    "The goal of this project is comparing various way of executing range search from its execution time. "
   ]
  },
  {
   "cell_type": "markdown",
   "id": "0abd10cb",
   "metadata": {},
   "source": [
    "# 2. Range Search by Python"
   ]
  },
  {
   "cell_type": "code",
   "execution_count": null,
   "id": "fec60992",
   "metadata": {},
   "outputs": [],
   "source": []
  },
  {
   "cell_type": "markdown",
   "id": "10e6813f",
   "metadata": {},
   "source": [
    "# 3. Range Search by Binary Searching Algorithm"
   ]
  },
  {
   "cell_type": "code",
   "execution_count": null,
   "id": "290fbff1",
   "metadata": {},
   "outputs": [],
   "source": []
  },
  {
   "cell_type": "markdown",
   "id": "1839028a",
   "metadata": {},
   "source": [
    "# 4. Range Search by CSV Index"
   ]
  },
  {
   "cell_type": "code",
   "execution_count": null,
   "id": "86b5ed01",
   "metadata": {},
   "outputs": [],
   "source": []
  },
  {
   "cell_type": "markdown",
   "id": "cc89175e",
   "metadata": {},
   "source": [
    "# 5. Time Comparison"
   ]
  },
  {
   "cell_type": "code",
   "execution_count": null,
   "id": "ff394a78",
   "metadata": {},
   "outputs": [],
   "source": []
  }
 ],
 "metadata": {
  "kernelspec": {
   "display_name": "Python 3",
   "language": "python",
   "name": "python3"
  },
  "language_info": {
   "codemirror_mode": {
    "name": "ipython",
    "version": 3
   },
   "file_extension": ".py",
   "mimetype": "text/x-python",
   "name": "python",
   "nbconvert_exporter": "python",
   "pygments_lexer": "ipython3",
   "version": "3.8.8"
  },
  "toc": {
   "base_numbering": 1,
   "nav_menu": {},
   "number_sections": false,
   "sideBar": true,
   "skip_h1_title": false,
   "title_cell": "Table of Contents",
   "title_sidebar": "Contents",
   "toc_cell": false,
   "toc_position": {},
   "toc_section_display": true,
   "toc_window_display": true
  },
  "varInspector": {
   "cols": {
    "lenName": 16,
    "lenType": 16,
    "lenVar": 40
   },
   "kernels_config": {
    "python": {
     "delete_cmd_postfix": "",
     "delete_cmd_prefix": "del ",
     "library": "var_list.py",
     "varRefreshCmd": "print(var_dic_list())"
    },
    "r": {
     "delete_cmd_postfix": ") ",
     "delete_cmd_prefix": "rm(",
     "library": "var_list.r",
     "varRefreshCmd": "cat(var_dic_list()) "
    }
   },
   "types_to_exclude": [
    "module",
    "function",
    "builtin_function_or_method",
    "instance",
    "_Feature"
   ],
   "window_display": false
  }
 },
 "nbformat": 4,
 "nbformat_minor": 5
}
