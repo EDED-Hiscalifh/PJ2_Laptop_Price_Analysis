{
 "cells": [
  {
   "cell_type": "markdown",
   "id": "78c0557b",
   "metadata": {},
   "source": [
    "# <center> Time Comparison of Range Search Algorithms\n",
    "\n",
    "# 1. Intoduction"
   ]
  },
  {
   "cell_type": "code",
   "execution_count": null,
   "id": "01147a5b",
   "metadata": {},
   "outputs": [],
   "source": []
  },
  {
   "cell_type": "markdown",
   "id": "0abd10cb",
   "metadata": {},
   "source": [
    "# 2. Range Search by Python"
   ]
  },
  {
   "cell_type": "code",
   "execution_count": null,
   "id": "fec60992",
   "metadata": {},
   "outputs": [],
   "source": []
  },
  {
   "cell_type": "markdown",
   "id": "10e6813f",
   "metadata": {},
   "source": [
    "# 3. Range Search by Binary Searching Algorithm"
   ]
  },
  {
   "cell_type": "code",
   "execution_count": null,
   "id": "290fbff1",
   "metadata": {},
   "outputs": [],
   "source": []
  },
  {
   "cell_type": "markdown",
   "id": "1839028a",
   "metadata": {},
   "source": [
    "# 4. Range Search by CSV Index"
   ]
  },
  {
   "cell_type": "code",
   "execution_count": null,
   "id": "86b5ed01",
   "metadata": {},
   "outputs": [],
   "source": []
  },
  {
   "cell_type": "markdown",
   "id": "cc89175e",
   "metadata": {},
   "source": [
    "# 5. Time Comparison"
   ]
  },
  {
   "cell_type": "code",
   "execution_count": null,
   "id": "ff394a78",
   "metadata": {},
   "outputs": [],
   "source": []
  }
 ],
 "metadata": {
  "kernelspec": {
   "display_name": "Python 3",
   "language": "python",
   "name": "python3"
  },
  "language_info": {
   "codemirror_mode": {
    "name": "ipython",
    "version": 3
   },
   "file_extension": ".py",
   "mimetype": "text/x-python",
   "name": "python",
   "nbconvert_exporter": "python",
   "pygments_lexer": "ipython3",
   "version": "3.8.8"
  },
  "toc": {
   "base_numbering": 1,
   "nav_menu": {},
   "number_sections": false,
   "sideBar": true,
   "skip_h1_title": false,
   "title_cell": "Table of Contents",
   "title_sidebar": "Contents",
   "toc_cell": false,
   "toc_position": {},
   "toc_section_display": true,
   "toc_window_display": true
  },
  "varInspector": {
   "cols": {
    "lenName": 16,
    "lenType": 16,
    "lenVar": 40
   },
   "kernels_config": {
    "python": {
     "delete_cmd_postfix": "",
     "delete_cmd_prefix": "del ",
     "library": "var_list.py",
     "varRefreshCmd": "print(var_dic_list())"
    },
    "r": {
     "delete_cmd_postfix": ") ",
     "delete_cmd_prefix": "rm(",
     "library": "var_list.r",
     "varRefreshCmd": "cat(var_dic_list()) "
    }
   },
   "types_to_exclude": [
    "module",
    "function",
    "builtin_function_or_method",
    "instance",
    "_Feature"
   ],
   "window_display": false
  }
 },
 "nbformat": 4,
 "nbformat_minor": 5
}
