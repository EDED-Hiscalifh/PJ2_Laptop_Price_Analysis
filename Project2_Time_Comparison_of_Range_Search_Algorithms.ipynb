{
 "cells": [
  {
   "cell_type": "markdown",
   "id": "78c0557b",
   "metadata": {},
   "source": [
    "# <center> Time Comparison of Range Search Algorithms\n",
    "\n",
    "<img src=\"Img/Youtube.jpg\" width=\"300\">\n",
    "\n",
    "# 1. Introduction\n",
    "## 1.1 What is Youtube? \n",
    "    \n",
    "**YouTube** is a free video sharing website that makes it easy to watch online videos. You can even create and upload your own videos to share with others. Originally created in 2005, YouTube is now one of the most popular sites on the Web, with visitors watching around 2.6 billion users worldwide as of 2022. It's ranked as the second-most popular social network, and the only platform that has more active users than YouTube is Facebook.\n",
    "    \n",
    "## [1.2 Context](https://www.kaggle.com/datasets/datasnaek/youtube-new) \n",
    "    \n",
    "YouTube (the world-famous video sharing website) maintains a list of the top trending videos on the platform. According to Variety magazine, \"To determine the year's top-trending videos, YouTube uses a combination of factors including measuring users interactions (number of views, shares, comments and likes). Note that they're not the most-viewed videos overall for the calander year\". Top performers on the YouTube trending list are music videos (such as the famous virile \"Gangam Style\"), celebrity and/or reality TV performances, and the random dude-with-a-camera viral videos that YouTube is well-known for. \n",
    "    \n",
    "This dataset is a daily record of the top top trending YouTube videos. \n",
    "    \n",
    "Note that this dataset is a structurally imporved version of [this dataset.](https://www.kaggle.com/datasnaek/youtube)\n",
    "    \n",
    "## [1.3 Content](https://www.kaggle.com/datasets/datasnaek/youtube-new)\n",
    "    \n",
    "This dataset includes several months (and counting) of data on daily trending YouTube videos. Data is included for the US, GB, DE, CA, and FR regions (USA, Great Britain, Germany, Canada, and France, respectively), with up to 200 listed trending videos per day. \n",
    "    \n",
    "EDIT : Now includes data from RU, MX, KR, JP, and IN regions (Russia, Mexico, South Korea, Japan and India respectively) over the same time period. \n",
    "    \n",
    "Each region's data is in a separate file. Data includes the video title, channel title, publish time, tags, views, likes and dislikes, description, and comment count. \n",
    "    \n",
    "The data also includes a 'category_id' filed, which varies between regions. To retreive the categories for a specific video, find it in the associated JSON. One such file is included fore each of the five regions in the dataset. \n",
    "    \n",
    "For more information on specific columns in the dataset refer to the [column metadata.](https://www.kaggle.com/datasnaek/youtube-new/data)\n",
    "    \n",
    "## 1.4 Features \n",
    "    \n",
    "- video_id : Unique code of video \n",
    "- title : Title of video \t\n",
    "- publishedAt : Published time of video \n",
    "- channelId : Unique code videoof youtube channel \n",
    "- channelTitle : Title of youtube channel\n",
    "- categoryId : Unique code of category\n",
    "- trending_date : Trending date of video \t\n",
    "- tags : Tag of video\n",
    "- view_count : Total view of video \n",
    "- likes : Counts of people like the video \n",
    "- dislikes : Counts of people dislike the video \n",
    "- comment_count : Counts of people comment on the video \n",
    "- thumbnail_link : Linkes of tunmbnails of the video \n",
    "- comments_disabled : Whether people can leave comments \n",
    "- ratings_disabled : Whether people can leave ratings \n",
    "- description : Description of video \n",
    "    \n",
    "## 1.5 Purpose of this Project \n",
    "    \n",
    "In this project, we will search the data using "
   ]
  },
  {
   "cell_type": "code",
   "execution_count": null,
   "id": "82aab3e5",
   "metadata": {},
   "outputs": [],
   "source": []
  }
 ],
 "metadata": {
  "kernelspec": {
   "display_name": "Python 3",
   "language": "python",
   "name": "python3"
  },
  "language_info": {
   "codemirror_mode": {
    "name": "ipython",
    "version": 3
   },
   "file_extension": ".py",
   "mimetype": "text/x-python",
   "name": "python",
   "nbconvert_exporter": "python",
   "pygments_lexer": "ipython3",
   "version": "3.8.8"
  },
  "toc": {
   "base_numbering": 1,
   "nav_menu": {},
   "number_sections": true,
   "sideBar": true,
   "skip_h1_title": false,
   "title_cell": "Table of Contents",
   "title_sidebar": "Contents",
   "toc_cell": false,
   "toc_position": {},
   "toc_section_display": true,
   "toc_window_display": false
  },
  "varInspector": {
   "cols": {
    "lenName": 16,
    "lenType": 16,
    "lenVar": 40
   },
   "kernels_config": {
    "python": {
     "delete_cmd_postfix": "",
     "delete_cmd_prefix": "del ",
     "library": "var_list.py",
     "varRefreshCmd": "print(var_dic_list())"
    },
    "r": {
     "delete_cmd_postfix": ") ",
     "delete_cmd_prefix": "rm(",
     "library": "var_list.r",
     "varRefreshCmd": "cat(var_dic_list()) "
    }
   },
   "types_to_exclude": [
    "module",
    "function",
    "builtin_function_or_method",
    "instance",
    "_Feature"
   ],
   "window_display": false
  }
 },
 "nbformat": 4,
 "nbformat_minor": 5
}
